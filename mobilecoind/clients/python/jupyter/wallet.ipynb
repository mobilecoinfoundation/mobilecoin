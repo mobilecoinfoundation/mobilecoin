{
 "cells": [
  {
   "cell_type": "markdown",
   "metadata": {},
   "source": [
    "# MobileCoin Example Wallet\n",
    "\n",
    "This is an example python client that interacts with `mobilecoind` to manage a MobileCoin wallet.\n",
    "\n",
    "You must start the `mobilecoind` daemon in order to run a wallet. See the mobilecoind README for more information.\n",
    "\n",
    "To run this notebook, make sure you have the requirements installed, and that you have compiled the grpc protos.\n",
    "\n",
    "```\n",
    "cd mobilecoind/clients/python/mob_client\n",
    "pip3 install -r requirements.txt\n",
    "./compile_protos.sh\n",
    "```"
   ]
  },
  {
   "cell_type": "code",
   "execution_count": null,
   "metadata": {},
   "outputs": [],
   "source": [
    "import sys\n",
    "import os.path\n",
    "import traceback\n",
    "import json\n",
    "import re\n",
    "import grpc\n",
    "\n",
    "import cmd\n",
    "\n",
    "import sys\n",
    "sys.path.append('./mob_client')\n",
    "from mob_client.mob_client import mob_client, MonitorNotFound"
   ]
  },
  {
   "cell_type": "markdown",
   "metadata": {},
   "source": [
    "#### Start the Mob Client\n",
    "\n",
    "The client talks to your local mobilecoind. See the mobilecoind/README.md for information on how to set it up."
   ]
  },
  {
   "cell_type": "code",
   "execution_count": null,
   "metadata": {},
   "outputs": [],
   "source": [
    "client = mob_client(\"localhost:4444\", ssl=False)"
   ]
  },
  {
   "cell_type": "markdown",
   "metadata": {},
   "source": [
    "#### Input Root Entropy for Account\n",
    "\n",
    "Note: The root entropy is sensitive material. It is used as the seed to create your account keys. Anyone with your root entropy can steal your MobileCoin."
   ]
  },
  {
   "cell_type": "code",
   "execution_count": null,
   "metadata": {},
   "outputs": [],
   "source": [
    "entropy = \"4ec2c081e764f4189afba528956c05804a448f55f24cc3d04c9ef7e807a93bcd\"\n",
    "credentials = client.get_account_key(bytes.fromhex(entropy))"
   ]
  },
  {
   "cell_type": "markdown",
   "metadata": {},
   "source": [
    "#### Monitor your Account\n",
    "\n",
    "Monitoring an account means that mobilecoind will persist the transactions that belong to you to a local database. This allows you to retrieve your funds and calculate your balance, as well as to construct and submit transactions.\n",
    "\n",
    "Note: MobileCoin uses accounts and subaddresses for managing funds. You can optionally specify a range of subaddresses to monitor. See mob_client.py for more information."
   ]
  },
  {
   "cell_type": "code",
   "execution_count": null,
   "metadata": {},
   "outputs": [],
   "source": [
    "monitor_id = client.add_monitor(credentials)"
   ]
  },
  {
   "cell_type": "markdown",
   "metadata": {},
   "source": [
    "#### Check Balance\n",
    "\n",
    "You will need to provide a subaddress index. Most people will only use one subaddress, and can default to 0. Exchanges or users who want to generate lots of new public addresses may use multiple subaddresses."
   ]
  },
  {
   "cell_type": "code",
   "execution_count": null,
   "metadata": {},
   "outputs": [],
   "source": [
    "subaddress_index = 0\n",
    "client.get_balance(monitor_id, subaddress_index)"
   ]
  },
  {
   "cell_type": "markdown",
   "metadata": {},
   "source": [
    "#### Send a Transaction\n",
    "\n",
    "MobileCoin uses \"request codes\" to wrap public addresses. See below for how to generate request codes."
   ]
  },
  {
   "cell_type": "code",
   "execution_count": null,
   "metadata": {},
   "outputs": [],
   "source": [
    "request_code = \"2BKiJJkWpt2GNg4fBrqZt9uZ8Gkmtssp5kvDhKU6MRaKU7hnFhHcKuJS2H9pA4AS2XHcjReSqvH3yzkngHffRKvP5xDGVoF5LxcQ3WrdAbf6PZ\"\n",
    "\n",
    "# We don't care about the value and memo field, because we already know \n",
    "# how much MobileCoin we want to send.\n",
    "target_address, _value, _memo = client.parse_request_code(request_code)\n",
    "\n",
    "# Construct the transaction\n",
    "tx_list = client.get_unspent_tx_output_list(monitor_id, subaddress_index)\n",
    "outlays = [{'value': 10, 'receiver': target_address}]\n",
    "tx_proposal = client.generate_tx(monitor_id, subaddress_index, tx_list, outlays)\n",
    "\n",
    "# Send the transaction to consensus validators\n",
    "client.submit_tx(tx_proposal)"
   ]
  },
  {
   "cell_type": "markdown",
   "metadata": {},
   "source": [
    "#### Public Address (Request Code)"
   ]
  },
  {
   "cell_type": "code",
   "execution_count": null,
   "metadata": {},
   "outputs": [],
   "source": [
    "public_address = client.get_public_address(monitor_id, subaddress_index)\n",
    "request_code = client.create_request_code(public_address)\n",
    "print(f\"Request code = {request_code}\")"
   ]
  }
 ],
 "metadata": {
  "kernelspec": {
   "display_name": "Python 3",
   "language": "python",
   "name": "python3"
  },
  "language_info": {
   "codemirror_mode": {
    "name": "ipython",
    "version": 3
   },
   "file_extension": ".py",
   "mimetype": "text/x-python",
   "name": "python",
   "nbconvert_exporter": "python",
   "pygments_lexer": "ipython3",
   "version": "3.7.7"
  }
 },
 "nbformat": 4,
 "nbformat_minor": 2
}
